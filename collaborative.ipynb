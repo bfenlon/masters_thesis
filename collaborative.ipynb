{
  "nbformat": 4,
  "nbformat_minor": 0,
  "metadata": {
    "colab": {
      "provenance": [],
      "machine_shape": "hm",
      "authorship_tag": "ABX9TyOoYghQ3R3q6roYldj9IKBl"
    },
    "kernelspec": {
      "name": "python3",
      "display_name": "Python 3"
    },
    "language_info": {
      "name": "python"
    },
    "gpuClass": "standard"
  },
  "cells": [
    {
      "cell_type": "code",
      "execution_count": 1,
      "metadata": {
        "colab": {
          "base_uri": "https://localhost:8080/"
        },
        "id": "kx0EzpQDN9Zr",
        "outputId": "b4eca901-5ebc-42a2-93d8-e1ae7e010cf2"
      },
      "outputs": [
        {
          "output_type": "stream",
          "name": "stdout",
          "text": [
            "Mounted at /content/gdrive\n",
            "/content/gdrive/MyDrive/Colab Notebooks/GCN\n"
          ]
        }
      ],
      "source": [
        "from google.colab import drive\n",
        "drive.mount('/content/gdrive')\n",
        "\n",
        "%cd /content/gdrive/MyDrive/Colab\\ Notebooks/GCN"
      ]
    },
    {
      "cell_type": "code",
      "source": [
        "!pip install surprise"
      ],
      "metadata": {
        "colab": {
          "base_uri": "https://localhost:8080/"
        },
        "id": "IEMCGQc_Ot9o",
        "outputId": "b0f0bd99-dc39-4e7d-d649-5138eac83f91"
      },
      "execution_count": 2,
      "outputs": [
        {
          "output_type": "stream",
          "name": "stdout",
          "text": [
            "Looking in indexes: https://pypi.org/simple, https://us-python.pkg.dev/colab-wheels/public/simple/\n",
            "Collecting surprise\n",
            "  Downloading surprise-0.1-py2.py3-none-any.whl (1.8 kB)\n",
            "Collecting scikit-surprise\n",
            "  Downloading scikit-surprise-1.1.3.tar.gz (771 kB)\n",
            "\u001b[K     |████████████████████████████████| 771 kB 4.9 MB/s \n",
            "\u001b[?25hRequirement already satisfied: joblib>=1.0.0 in /usr/local/lib/python3.8/dist-packages (from scikit-surprise->surprise) (1.2.0)\n",
            "Requirement already satisfied: numpy>=1.17.3 in /usr/local/lib/python3.8/dist-packages (from scikit-surprise->surprise) (1.21.6)\n",
            "Requirement already satisfied: scipy>=1.3.2 in /usr/local/lib/python3.8/dist-packages (from scikit-surprise->surprise) (1.7.3)\n",
            "Building wheels for collected packages: scikit-surprise\n",
            "  Building wheel for scikit-surprise (setup.py) ... \u001b[?25l\u001b[?25hdone\n",
            "  Created wheel for scikit-surprise: filename=scikit_surprise-1.1.3-cp38-cp38-linux_x86_64.whl size=2626497 sha256=d4ed76c4dff01c671ec7d303c97597b061dc58362f6e178df6e3df8696de18a4\n",
            "  Stored in directory: /root/.cache/pip/wheels/af/db/86/2c18183a80ba05da35bf0fb7417aac5cddbd93bcb1b92fd3ea\n",
            "Successfully built scikit-surprise\n",
            "Installing collected packages: scikit-surprise, surprise\n",
            "Successfully installed scikit-surprise-1.1.3 surprise-0.1\n"
          ]
        }
      ]
    },
    {
      "cell_type": "code",
      "source": [
        "import numpy as np\n",
        "import pandas as pd\n",
        "from sklearn.metrics.pairwise import cosine_similarity\n",
        "from sklearn.metrics import mean_squared_error\n",
        "from sklearn.model_selection import train_test_split\n",
        "from surprise import Reader, Dataset, KNNBasic, NormalPredictor,BaselineOnly,KNNWithMeans,KNNBaseline\n",
        "from surprise import SVD, SVDpp, NMF, SlopeOne, CoClustering\n",
        "from surprise.model_selection import cross_validate\n",
        "from surprise.model_selection import GridSearchCV\n",
        "from surprise import accuracy\n",
        "import random\n",
        "import time"
      ],
      "metadata": {
        "id": "hS8q--IbOJJF"
      },
      "execution_count": 3,
      "outputs": []
    },
    {
      "cell_type": "code",
      "source": [
        "# read movielens .dat file\n",
        "# df_raw = [i.strip().split('::') for i in open('ml-1m-2/ratings.dat').readlines()] # 1M data\n",
        "df_raw = [i.strip().split() for i in open('ml-100k/u.data').readlines()] # 100k data\n",
        "df = pd.DataFrame(df_raw, columns=['userID', 'itemID', 'rating', 'timestamp'])\n",
        "df.drop('timestamp', axis=1, inplace=True)\n",
        "df['rating'] = df['rating'].astype(int)"
      ],
      "metadata": {
        "id": "bXnypjc9Ojkn"
      },
      "execution_count": 4,
      "outputs": []
    },
    {
      "cell_type": "code",
      "source": [
        "np.min(df.rating), np.max(df.rating)"
      ],
      "metadata": {
        "colab": {
          "base_uri": "https://localhost:8080/"
        },
        "id": "IbkjNWemO6wR",
        "outputId": "8d098fc1-1f49-4764-98da-7874d60256a2"
      },
      "execution_count": 5,
      "outputs": [
        {
          "output_type": "execute_result",
          "data": {
            "text/plain": [
              "(1, 5)"
            ]
          },
          "metadata": {},
          "execution_count": 5
        }
      ]
    },
    {
      "cell_type": "code",
      "source": [
        "train, test = train_test_split(df, test_size=0.15, random_state=14, stratify=df['userID']) # initial, seeded split\n",
        "\n",
        "reader = Reader(rating_scale=(1,5))\n",
        "train_data = Dataset.load_from_df(train, reader).build_full_trainset()\n",
        "\n",
        "# svd_algo = SVD(n_epochs=100, lr_all=0.0005, reg_all=0.01) # for 1M data\n",
        "svd_algo = SVD(n_epochs=100, lr_all=0.0025, reg_all=0.1) # for 100k data\n",
        "start = time.time()\n",
        "svd_algo.fit(train_data)\n",
        "stop = time.time()\n",
        "print(f'Training took {stop-start}s')"
      ],
      "metadata": {
        "id": "c2V9ERiPcCwq",
        "colab": {
          "base_uri": "https://localhost:8080/"
        },
        "outputId": "b03269e9-a026-41b4-e3d9-fc18b3f972d6"
      },
      "execution_count": 6,
      "outputs": [
        {
          "output_type": "stream",
          "name": "stdout",
          "text": [
            "Training took 7.646852254867554s\n"
          ]
        }
      ]
    },
    {
      "cell_type": "code",
      "source": [
        "# Compute unbiased accuracy on test\n",
        "testset = list(test.itertuples(index=False, name=None))\n",
        "predictions = svd_algo.test(testset)\n",
        "print(f'Unbiased accuracy on test set = {accuracy.rmse(predictions)}')"
      ],
      "metadata": {
        "colab": {
          "base_uri": "https://localhost:8080/"
        },
        "id": "lw42fJ0Z0bRl",
        "outputId": "1419b6c8-8ce5-485d-e591-a1a9808adbe7"
      },
      "execution_count": 7,
      "outputs": [
        {
          "output_type": "stream",
          "name": "stdout",
          "text": [
            "RMSE: 0.9117\n",
            "Unbiased accuracy on test set = 0.9116539455359164\n"
          ]
        }
      ]
    },
    {
      "cell_type": "code",
      "source": [
        "def return_unrated(train_data, userID, user_col='userID', item_col='itemID'):\n",
        "    unique_items = train_data[item_col].unique()\n",
        "    user_rated_items = train_data.loc[train_data[user_col]==userID, item_col].unique()\n",
        "\n",
        "    return unique_items[~np.in1d(unique_items, user_rated_items)]\n",
        "\n",
        "def hit_ratio(df, test, model, k=5):\n",
        "    unique_test_users = test['userID'].unique()\n",
        "    hr_k = 0\n",
        "    user_count = 0\n",
        "    for uid in unique_test_users:\n",
        "        user_not_rated = return_unrated(df, uid).tolist()\n",
        "        user_rel_items = test.loc[test['userID']==uid, 'itemID'].values.tolist()\n",
        "        item_predictions = []\n",
        "        for iid in user_not_rated:\n",
        "            item_predictions.append([iid, model.predict(uid, iid).est])\n",
        "\n",
        "        item_predictions = pd.DataFrame(item_predictions, columns=['itemID', 'predicted_rating']).sort_values(by='predicted_rating', ascending=False)\n",
        "        sum_hits = sum(item_predictions[:k]['itemID'].isin(user_rel_items))\n",
        "        if sum_hits > 0:\n",
        "            hr_k += 1\n",
        "        user_count +=1\n",
        "\n",
        "    return hr_k/user_count\n",
        "\n",
        "hr_20 = hit_ratio(train, test, svd_algo, k=20)"
      ],
      "metadata": {
        "id": "aEyEdVy60UL0"
      },
      "execution_count": 8,
      "outputs": []
    },
    {
      "cell_type": "code",
      "source": [
        "hr_20"
      ],
      "metadata": {
        "colab": {
          "base_uri": "https://localhost:8080/"
        },
        "id": "ZE7TkATEgyrv",
        "outputId": "e64c0533-09e3-4172-ff99-7ad13b43ae84"
      },
      "execution_count": 9,
      "outputs": [
        {
          "output_type": "execute_result",
          "data": {
            "text/plain": [
              "0.49522799575821846"
            ]
          },
          "metadata": {},
          "execution_count": 9
        }
      ]
    },
    {
      "cell_type": "code",
      "source": [
        "# our_seed = 14\n",
        "\n",
        "# #Define a Reader object\n",
        "# reader = Reader(rating_scale=(1,5)) # use rating min and max here for scale\n",
        "\n",
        "# #Create the dataset to be used for building the filter\n",
        "# data = Dataset.load_from_df(df, reader)\n",
        "\n",
        "# #get the raw ratings\n",
        "# raw_ratings = data.raw_ratings\n",
        "\n",
        "# # shuffle ratings\n",
        "# random.seed(our_seed)\n",
        "# np.random.seed(our_seed)\n",
        "# random.shuffle(raw_ratings)\n",
        "\n",
        "# #A = 85% of the data, B = 15% of the data\n",
        "# threshold = int(.85 * len(raw_ratings))\n",
        "# A_raw_ratings = raw_ratings[:threshold]\n",
        "# B_raw_ratings = raw_ratings[threshold:]\n",
        "\n",
        "# data.raw_ratings = A_raw_ratings  # data is now the set A\n",
        "\n",
        "# # Grid search\n",
        "# param_grid = {'n_epochs': [100],\n",
        "# \t\t\t  'lr_all': [.001, .0005],\n",
        "# \t\t\t  'reg_all': [.1, .01, .001]}\n",
        "# grid_search = GridSearchCV(SVD, param_grid, measures=['rmse'], refit=True, cv=5)\n",
        "# grid_search.fit(data)\n",
        "\n",
        "# # svd_algo = grid_search.best_estimator['rmse']\n",
        "# svd_algo = SVD(n_epochs=100)\n",
        "\n",
        "# # retrain on the whole set A\n",
        "# trainset = data.build_full_trainset()\n",
        "# svd_algo.fit(trainset)"
      ],
      "metadata": {
        "colab": {
          "base_uri": "https://localhost:8080/"
        },
        "id": "d-DmsBsIPVfk",
        "outputId": "eb53a2ec-f693-4307-fbfd-9d7356353216"
      },
      "execution_count": null,
      "outputs": [
        {
          "output_type": "execute_result",
          "data": {
            "text/plain": [
              "<surprise.prediction_algorithms.matrix_factorization.SVD at 0x7f21db610820>"
            ]
          },
          "metadata": {},
          "execution_count": 9
        }
      ]
    },
    {
      "cell_type": "code",
      "source": [
        "# Compute biased accuracy on A \n",
        "# predictions = svd_algo.test(trainset.build_testset())\n",
        "# print(f'Biased accuracy on A = {accuracy.rmse(predictions)}')"
      ],
      "metadata": {
        "colab": {
          "base_uri": "https://localhost:8080/"
        },
        "id": "o7ro1iU4Th0J",
        "outputId": "68b9beba-8baf-4613-a7cc-7d0ee582ff39"
      },
      "execution_count": null,
      "outputs": [
        {
          "output_type": "stream",
          "name": "stdout",
          "text": [
            "RMSE: 0.4245\n",
            "Biased accuracy on A = 0.42451647573858564\n"
          ]
        }
      ]
    },
    {
      "cell_type": "code",
      "source": [
        "# # Compute unbiased accuracy on B\n",
        "# testset = data.construct_testset(B_raw_ratings)  # testset is now the set B\n",
        "# predictions = svd_algo.test(testset)\n",
        "# print(f'Unbiased accuracy on B = {accuracy.rmse(predictions)}')"
      ],
      "metadata": {
        "colab": {
          "base_uri": "https://localhost:8080/"
        },
        "id": "pGDrktNVTiXa",
        "outputId": "cb302e6b-6101-4bbb-b126-4cef2f9f5283"
      },
      "execution_count": null,
      "outputs": [
        {
          "output_type": "stream",
          "name": "stdout",
          "text": [
            "RMSE: 0.9191\n",
            "Unbiased accuracy on B = 0.9190505596823432\n"
          ]
        }
      ]
    },
    {
      "cell_type": "code",
      "source": [
        "# grid_search.best_params"
      ],
      "metadata": {
        "colab": {
          "base_uri": "https://localhost:8080/"
        },
        "id": "uCVvDyZLqYZ0",
        "outputId": "7cda358f-b681-4c2d-b6f3-e00022ec53f8"
      },
      "execution_count": null,
      "outputs": [
        {
          "output_type": "execute_result",
          "data": {
            "text/plain": [
              "{'rmse': {'n_epochs': 100, 'lr_all': 0.0005, 'reg_all': 0.01}}"
            ]
          },
          "metadata": {},
          "execution_count": 12
        }
      ]
    }
  ]
}